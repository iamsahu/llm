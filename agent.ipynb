{
 "cells": [
  {
   "cell_type": "code",
   "execution_count": 1,
   "metadata": {},
   "outputs": [],
   "source": [
    "from langchain.agents import load_tools\n",
    "from langchain.agents import initialize_agent\n",
    "from langchain.agents import AgentType\n",
    "from langchain.llms import OpenAI\n",
    "\n",
    "from langchain import LLMMathChain, SerpAPIWrapper\n",
    "from langchain.agents import AgentType, initialize_agent\n",
    "from langchain.chat_models import ChatOpenAI\n",
    "from langchain.tools import BaseTool, StructuredTool, Tool, tool\n",
    "import os\n",
    "import requests\n",
    "import json\n",
    "ETHERSCAN_KEY = os.getenv('ETHERSCAN_KEY')\n",
    "os.environ[\"OPENAI_API_KEY\"] = os.getenv('OPENAI_KEY')\n",
    "OX_KEY=os.getenv('OX_KEY')\n",
    "llm = OpenAI(temperature=0)"
   ]
  },
  {
   "cell_type": "code",
   "execution_count": 2,
   "metadata": {},
   "outputs": [
    {
     "data": {
      "text/plain": [
       "StructuredTool(name='get_abi', description='get_abi(address: str) -> str - Gets the abi for the provided contract address', args_schema=<class 'pydantic.main.get_abiSchemaSchema'>, return_direct=False, verbose=False, callbacks=None, callback_manager=None, func=<function get_abi at 0x12f4cc310>, coroutine=None)"
      ]
     },
     "execution_count": 2,
     "metadata": {},
     "output_type": "execute_result"
    }
   ],
   "source": [
    "@tool\n",
    "def get_abi(address: str) -> str:\n",
    "    \"\"\"Gets the abi for the provided contract address\"\"\"\n",
    "    response = requests.get(\"https://api.etherscan.io/api?module=contract&action=getabi&address=\"+address+\"&apikey=\"+ETHERSCAN_KEY)\n",
    "    abi = response.json()['result']\n",
    "    abiJson = (json.loads(abi))\n",
    "    return abiJson\n",
    "\n",
    "get_abi"
   ]
  },
  {
   "cell_type": "code",
   "execution_count": 3,
   "metadata": {},
   "outputs": [
    {
     "data": {
      "text/plain": [
       "StructuredTool(name='get_functions', description='get_functions(abiJson: str) -> str - Gets the abi for the provided contract address', args_schema=<class 'pydantic.main.get_functionsSchemaSchema'>, return_direct=False, verbose=False, callbacks=None, callback_manager=None, func=<function get_functions at 0x12f4cc3a0>, coroutine=None)"
      ]
     },
     "execution_count": 3,
     "metadata": {},
     "output_type": "execute_result"
    }
   ],
   "source": [
    "@tool\n",
    "def get_functions(abiJson: str) -> str:\n",
    "    \"\"\"Gets the abi for the provided contract address\"\"\"\n",
    "    functions = []\n",
    "    for item in abiJson:\n",
    "        if item['type'] == 'function' and item['stateMutability'] != 'view':\n",
    "            functions.append(item['name'])\n",
    "    return functions\n",
    "\n",
    "get_functions"
   ]
  },
  {
   "cell_type": "code",
   "execution_count": 4,
   "metadata": {},
   "outputs": [],
   "source": [
    "@tool\n",
    "def encoded_transaction(inputs: str) -> str:\n",
    "    \"\"\"Encodes the transaction with the provided inputs\"\"\"\n",
    "    "
   ]
  },
  {
   "cell_type": "code",
   "execution_count": 5,
   "metadata": {},
   "outputs": [],
   "source": [
    "@tool\n",
    "def get_parameters(dets:str) -> str:\n",
    "    \"\"\"Gets the function parameters for the given function from the abi\"\"\"\n",
    "    address, functionName = dets.split(' ')\n",
    "    abiJson = get_abi(address)\n",
    "    for item in abiJson:\n",
    "        if item['name'] == functionName and item['type'] == 'function' and item['stateMutability'] != 'view':\n",
    "            return item['inputs']"
   ]
  },
  {
   "cell_type": "code",
   "execution_count": 13,
   "metadata": {},
   "outputs": [
    {
     "data": {
      "text/plain": [
       "StructuredTool(name='get_swap_rates', description='get_swap_rates(dets: str) -> str - Gets the swap rates for the given token', args_schema=<class 'pydantic.main.get_swap_ratesSchemaSchema'>, return_direct=False, verbose=False, callbacks=None, callback_manager=None, func=<function get_swap_rates at 0x1415bac10>, coroutine=None)"
      ]
     },
     "execution_count": 13,
     "metadata": {},
     "output_type": "execute_result"
    }
   ],
   "source": [
    "@tool\n",
    "def get_swap_rates(dets:str) -> str:\n",
    "    \"\"\"Gets the swap rates for the given token\"\"\"\n",
    "    token1, token2 = dets.split('/')\n",
    "    url = \"https://api.0x.org/swap/v1/quote?sellToken=\"+token1+\"&buyToken=\"+token2+\"&sellAmount=1000000000000000000\"\n",
    "    response = requests.get(url)\n",
    "    return response.json()['price']\n",
    "\n",
    "get_swap_rates"
   ]
  },
  {
   "cell_type": "code",
   "execution_count": 14,
   "metadata": {},
   "outputs": [],
   "source": [
    "tools = [\n",
    "    Tool.from_function(\n",
    "        func=get_abi,\n",
    "        name = \"get_abi\",\n",
    "        description=\"gets abi\"\n",
    "        # coroutine= ... <- you can specify an async method if desired as well\n",
    "    ),\n",
    "    Tool.from_function(\n",
    "        func=get_functions,\n",
    "        name = \"get_functions\",\n",
    "        description=\"gets functions from abi\"\n",
    "    )\n",
    "    ,\n",
    "    Tool.from_function(\n",
    "        func=get_parameters,\n",
    "        name = \"get_parameters\",\n",
    "        description=\"Gets the function parameters for the given function from the abi\"\n",
    "    ),\n",
    "    Tool.from_function(\n",
    "        func=get_swap_rates,\n",
    "        name = \"get_swap_rates\",\n",
    "        description=\"Gets the swap rates for the given token\"\n",
    "    )\n",
    "]\n",
    "# tools = load_tools([\"get_abi\"], llm=llm)\n",
    "\n",
    "agent = initialize_agent(tools,llm,AgentType.STRUCTURED_CHAT_ZERO_SHOT_REACT_DESCRIPTION, verbose=True)"
   ]
  },
  {
   "cell_type": "code",
   "execution_count": 14,
   "metadata": {},
   "outputs": [
    {
     "data": {
      "text/plain": [
       "\"The abi for 0xdAC17F958D2ee523a2206206994597C13D831ec7 is [{'constant': True, 'inputs': [], 'name': 'name', 'outputs': [{'name': '', 'type': 'string'}], 'payable': False, 'stateMutability': 'view', 'type': 'function'}, {'constant': False, 'inputs': [{'name': '_upgradedAddress', 'type': 'address'}], 'name': 'deprecate', 'outputs': [], 'payable': False, 'stateMutability': 'nonpayable', 'type': 'function'}, {'constant': False, 'inputs': [{'name': '_spender', 'type': 'address'}, {'name': '_value', 'type': 'uint256'}], 'name': 'approve', 'outputs': [], 'payable': False, 'stateMutability': 'nonpayable', 'type': 'function'}, {'constant':\""
      ]
     },
     "execution_count": 14,
     "metadata": {},
     "output_type": "execute_result"
    }
   ],
   "source": [
    "agent.run(\"get me abi for 0xdAC17F958D2ee523a2206206994597C13D831ec7\")"
   ]
  },
  {
   "cell_type": "code",
   "execution_count": 19,
   "metadata": {},
   "outputs": [
    {
     "data": {
      "text/plain": [
       "'The functions possible on 0xdAC17F958D2ee523a2206206994597C13D831ec7 are: name, deprecate, approve, deprecated, addBlackList, totalSupply, transferFrom, upgradedAddress, balances, decimals, maximumFee, _totalSupply, unpause, getBlackListStatus, allowed, paused, balanceOf, pause, getOwner, owner, symbol, transfer, setParams, issue, redeem, allowance, basisPointsRate, isBlackListed, removeBlackList, MAX_UINT, transferOwnership, destroyBlackFunds, and constructor.'"
      ]
     },
     "execution_count": 19,
     "metadata": {},
     "output_type": "execute_result"
    }
   ],
   "source": [
    "agent.run(\"what functions are possible on 0xdAC17F958D2ee523a2206206994597C13D831ec7\")"
   ]
  },
  {
   "cell_type": "code",
   "execution_count": 30,
   "metadata": {},
   "outputs": [
    {
     "name": "stdout",
     "output_type": "stream",
     "text": [
      "\n",
      "\n",
      "\u001b[1m> Entering new AgentExecutor chain...\u001b[0m\n",
      "\u001b[32;1m\u001b[1;3mAction:\n",
      "```\n",
      "{\n",
      "  \"action\": \"get_parameters\",\n",
      "  \"action_input\": \"0xdAC17F958D2ee523a2206206994597C13D831ec7 approve\"\n",
      "}\n",
      "```\n",
      "\n",
      "\u001b[0m\n",
      "Observation: \u001b[38;5;200m\u001b[1;3m[{'name': '_spender', 'type': 'address'}, {'name': '_value', 'type': 'uint256'}]\u001b[0m\n",
      "Thought:\u001b[32;1m\u001b[1;3m I have the parameters for the function\n",
      "Action:\n",
      "```\n",
      "{\n",
      "  \"action\": \"Final Answer\",\n",
      "  \"action_input\": \"The parameters for the function approve on 0xdAC17F958D2ee523a2206206994597C13D831ec7 are _spender (address) and _value (uint256).\"\n",
      "}\n",
      "```\n",
      "\u001b[0m\n",
      "\n",
      "\u001b[1m> Finished chain.\u001b[0m\n"
     ]
    },
    {
     "data": {
      "text/plain": [
       "'The parameters for the function approve on 0xdAC17F958D2ee523a2206206994597C13D831ec7 are _spender (address) and _value (uint256).'"
      ]
     },
     "execution_count": 30,
     "metadata": {},
     "output_type": "execute_result"
    }
   ],
   "source": [
    "agent.run(\"what are the parameters for the function approve on 0xdAC17F958D2ee523a2206206994597C13D831ec7\")"
   ]
  },
  {
   "cell_type": "code",
   "execution_count": null,
   "metadata": {},
   "outputs": [],
   "source": [
    "agent.run(\"Can you create an encoded transaction with the value of 0x0d1d4e623D10F9FBA5Db95830F7d3839406C6AF2 for spender & value of 100000000000000000\")"
   ]
  },
  {
   "cell_type": "code",
   "execution_count": 15,
   "metadata": {},
   "outputs": [
    {
     "name": "stdout",
     "output_type": "stream",
     "text": [
      "\n",
      "\n",
      "\u001b[1m> Entering new AgentExecutor chain...\u001b[0m\n",
      "\u001b[32;1m\u001b[1;3mAction:\n",
      "```\n",
      "{\n",
      "  \"action\": \"get_swap_rates\",\n",
      "  \"action_input\": \"USDT/ETH\"\n",
      "}\n",
      "```\n",
      "\n",
      "\u001b[0m\n",
      "Observation: \u001b[31;1m\u001b[1;3m0.000000037758419728\u001b[0m\n",
      "Thought:\u001b[32;1m\u001b[1;3m I have the swap rate, now I need to provide the final answer\n",
      "Action:\n",
      "```\n",
      "{\n",
      "  \"action\": \"Final Answer\",\n",
      "  \"action_input\": \"The current swap rate for USDT to ETH is 0.000000037758419728\"\n",
      "}\n",
      "```\n",
      "\n",
      "\u001b[0m\n",
      "\n",
      "\u001b[1m> Finished chain.\u001b[0m\n"
     ]
    },
    {
     "data": {
      "text/plain": [
       "'The current swap rate for USDT to ETH is 0.000000037758419728'"
      ]
     },
     "execution_count": 15,
     "metadata": {},
     "output_type": "execute_result"
    }
   ],
   "source": [
    "agent.run(\"i want to swap usdt for eth\")"
   ]
  },
  {
   "cell_type": "code",
   "execution_count": null,
   "metadata": {},
   "outputs": [],
   "source": []
  }
 ],
 "metadata": {
  "kernelspec": {
   "display_name": "Python 3",
   "language": "python",
   "name": "python3"
  },
  "language_info": {
   "codemirror_mode": {
    "name": "ipython",
    "version": 3
   },
   "file_extension": ".py",
   "mimetype": "text/x-python",
   "name": "python",
   "nbconvert_exporter": "python",
   "pygments_lexer": "ipython3",
   "version": "3.9.6"
  },
  "orig_nbformat": 4
 },
 "nbformat": 4,
 "nbformat_minor": 2
}
